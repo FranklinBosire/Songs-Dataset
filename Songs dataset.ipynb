{
 "cells": [
  {
   "cell_type": "code",
   "execution_count": 11,
   "id": "12429906",
   "metadata": {},
   "outputs": [],
   "source": [
    "import numpy as np\n",
    "import plotly.express as px\n",
    "import matplotlib.pyplot as plt\n",
    "import plotly.graph_objects as px\n",
    "import pandas as pd\n",
    "import seaborn as sns\n",
    "from matplotlib.sankey import Sankey\n",
    "from bokeh.plotting import figure, output_file, show\n",
    "from bokeh.palettes import magma\n",
    "from scipy.stats.mstats import winsorize\n",
    "from scipy import stats"
   ]
  },
  {
   "cell_type": "code",
   "execution_count": 12,
   "id": "11b7c765",
   "metadata": {},
   "outputs": [],
   "source": [
    "#importing of the dataset to jupyter\n",
    "dat = pd.read_csv('songs.csv')"
   ]
  },
  {
   "cell_type": "code",
   "execution_count": 13,
   "id": "22b04a25",
   "metadata": {},
   "outputs": [
    {
     "data": {
      "text/html": [
       "<div>\n",
       "<style scoped>\n",
       "    .dataframe tbody tr th:only-of-type {\n",
       "        vertical-align: middle;\n",
       "    }\n",
       "\n",
       "    .dataframe tbody tr th {\n",
       "        vertical-align: top;\n",
       "    }\n",
       "\n",
       "    .dataframe thead th {\n",
       "        text-align: right;\n",
       "    }\n",
       "</style>\n",
       "<table border=\"1\" class=\"dataframe\">\n",
       "  <thead>\n",
       "    <tr style=\"text-align: right;\">\n",
       "      <th></th>\n",
       "      <th>Name</th>\n",
       "      <th>Artist</th>\n",
       "      <th>Album</th>\n",
       "      <th>Popularity</th>\n",
       "      <th>Lyrics</th>\n",
       "    </tr>\n",
       "  </thead>\n",
       "  <tbody>\n",
       "    <tr>\n",
       "      <th>0</th>\n",
       "      <td>Imagine - Remastered 2010</td>\n",
       "      <td>John Lennon</td>\n",
       "      <td>Imagine</td>\n",
       "      <td>79</td>\n",
       "      <td>8 ContributorsDiscographie 2021 — Pop &amp; Rock L...</td>\n",
       "    </tr>\n",
       "    <tr>\n",
       "      <th>1</th>\n",
       "      <td>A Whiter Shade Of Pale</td>\n",
       "      <td>Procol Harum</td>\n",
       "      <td>A Whiter Shade Of Pale</td>\n",
       "      <td>0</td>\n",
       "      <td>38 ContributorsA Whiter Shade of Pale Lyrics[I...</td>\n",
       "    </tr>\n",
       "    <tr>\n",
       "      <th>2</th>\n",
       "      <td>My Sweet Lord</td>\n",
       "      <td>George Harrison</td>\n",
       "      <td>All Things Must Pass (Remastered)</td>\n",
       "      <td>0</td>\n",
       "      <td>58 ContributorsMy Sweet Lord Lyrics[Chorus]\\nM...</td>\n",
       "    </tr>\n",
       "    <tr>\n",
       "      <th>3</th>\n",
       "      <td>God Only Knows - Mono</td>\n",
       "      <td>The Beach Boys</td>\n",
       "      <td>Pet Sounds (Original Mono &amp; Stereo Mix)</td>\n",
       "      <td>67</td>\n",
       "      <td>1 ContributorGod Only Knows (mono mix) LyricsI...</td>\n",
       "    </tr>\n",
       "    <tr>\n",
       "      <th>4</th>\n",
       "      <td>Bridge Over Troubled Water</td>\n",
       "      <td>Simon &amp; Garfunkel</td>\n",
       "      <td>Bridge Over Troubled Water</td>\n",
       "      <td>72</td>\n",
       "      <td>57 ContributorsBridge Over Troubled Water Lyri...</td>\n",
       "    </tr>\n",
       "  </tbody>\n",
       "</table>\n",
       "</div>"
      ],
      "text/plain": [
       "                         Name             Artist  \\\n",
       "0   Imagine - Remastered 2010        John Lennon   \n",
       "1      A Whiter Shade Of Pale       Procol Harum   \n",
       "2               My Sweet Lord    George Harrison   \n",
       "3       God Only Knows - Mono     The Beach Boys   \n",
       "4  Bridge Over Troubled Water  Simon & Garfunkel   \n",
       "\n",
       "                                     Album  Popularity  \\\n",
       "0                                  Imagine          79   \n",
       "1                   A Whiter Shade Of Pale           0   \n",
       "2        All Things Must Pass (Remastered)           0   \n",
       "3  Pet Sounds (Original Mono & Stereo Mix)          67   \n",
       "4               Bridge Over Troubled Water          72   \n",
       "\n",
       "                                              Lyrics  \n",
       "0  8 ContributorsDiscographie 2021 — Pop & Rock L...  \n",
       "1  38 ContributorsA Whiter Shade of Pale Lyrics[I...  \n",
       "2  58 ContributorsMy Sweet Lord Lyrics[Chorus]\\nM...  \n",
       "3  1 ContributorGod Only Knows (mono mix) LyricsI...  \n",
       "4  57 ContributorsBridge Over Troubled Water Lyri...  "
      ]
     },
     "execution_count": 13,
     "metadata": {},
     "output_type": "execute_result"
    }
   ],
   "source": [
    "#checking for the first 5 values of the dataset\n",
    "dat.head()"
   ]
  },
  {
   "cell_type": "code",
   "execution_count": 14,
   "id": "41a0b978",
   "metadata": {},
   "outputs": [
    {
     "data": {
      "text/plain": [
       "Name          0\n",
       "Artist        0\n",
       "Album         0\n",
       "Popularity    0\n",
       "Lyrics        0\n",
       "dtype: int64"
      ]
     },
     "execution_count": 14,
     "metadata": {},
     "output_type": "execute_result"
    }
   ],
   "source": [
    "#detecting missing values in the dataset where we find that there are no missing values in the dataset given.\n",
    "dat.isnull().sum()"
   ]
  },
  {
   "cell_type": "code",
   "execution_count": 15,
   "id": "a0cd5b72",
   "metadata": {},
   "outputs": [
    {
     "data": {
      "text/plain": [
       "Name          False\n",
       "Artist        False\n",
       "Album         False\n",
       "Popularity    False\n",
       "Lyrics        False\n",
       "dtype: bool"
      ]
     },
     "execution_count": 15,
     "metadata": {},
     "output_type": "execute_result"
    }
   ],
   "source": [
    "#Separate categorical and numerical columns in the dataset of the song where we find \n",
    "dat.dtypes == 'objects'"
   ]
  },
  {
   "cell_type": "code",
   "execution_count": 16,
   "id": "d441717c",
   "metadata": {},
   "outputs": [
    {
     "data": {
      "text/plain": [
       "['Popularity']"
      ]
     },
     "execution_count": 16,
     "metadata": {},
     "output_type": "execute_result"
    }
   ],
   "source": [
    "#checking of numerical variables in columns where we find popularity is the numerical variable for the dataset\n",
    "num_var2=dat.select_dtypes(include=np.number).columns.tolist()\n",
    "num_var2"
   ]
  },
  {
   "cell_type": "code",
   "execution_count": 17,
   "id": "1fbbaa77",
   "metadata": {},
   "outputs": [
    {
     "data": {
      "text/plain": [
       "Eminem             49\n",
       "Morgan Wallen      15\n",
       "Ed Sheeran         15\n",
       "Taylor Swift       14\n",
       "The Weeknd         14\n",
       "                   ..\n",
       "Manuel Turizo       1\n",
       "Ozuna               1\n",
       "Stephen Sanchez     1\n",
       "d4vd                1\n",
       "Years & Years       1\n",
       "Name: Artist, Length: 436, dtype: int64"
      ]
     },
     "execution_count": 17,
     "metadata": {},
     "output_type": "execute_result"
    }
   ],
   "source": [
    "# check value counts of a column\n",
    "dat['Artist'].value_counts()"
   ]
  },
  {
   "cell_type": "code",
   "execution_count": 22,
   "id": "cd686b16",
   "metadata": {},
   "outputs": [
    {
     "data": {
      "image/png": "[encoded data removed]",
      "text/plain": [
       "<Figure size 640x480 with 1 Axes>"
      ]
     },
     "metadata": {},
     "output_type": "display_data"
    }
   ],
   "source": [
    "plt.hist(dat['Popularity'])\n",
    "plt.xlabel(\"Popularity\")\n",
    "plt.ylabel(\"Count\")\n",
    "plt.title(\"The popularity that listens to music alot\")\n",
    "plt.show()"
   ]
  },
  {
   "cell_type": "code",
   "execution_count": null,
   "id": "f3e66c67",
   "metadata": {},
   "outputs": [],
   "source": []
  },
  {
   "cell_type": "code",
   "execution_count": null,
   "id": "3dba86ac",
   "metadata": {},
   "outputs": [],
   "source": []
  }
 ],
 "metadata": {
  "kernelspec": {
   "display_name": "Python 3 (ipykernel)",
   "language": "python",
   "name": "python3"
  },
  "language_info": {
   "codemirror_mode": {
    "name": "ipython",
    "version": 3
   },
   "file_extension": ".py",
   "mimetype": "text/x-python",
   "name": "python",
   "nbconvert_exporter": "python",
   "pygments_lexer": "ipython3",
   "version": "3.10.9"
  }
 },
 "nbformat": 4,
 "nbformat_minor": 5
}
